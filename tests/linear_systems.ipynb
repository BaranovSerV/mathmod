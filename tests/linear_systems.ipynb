{
 "cells": [
  {
   "cell_type": "code",
   "execution_count": 23,
   "metadata": {},
   "outputs": [],
   "source": [
    "import sys\n",
    "import os\n",
    "\n",
    "import numpy as np\n",
    "from scipy.linalg import solve\n",
    "from scipy.linalg import eigvals\n",
    "\n",
    "\n",
    "# Добавляем путь к корневой директории проекта\n",
    "sys.path.append(os.path.abspath(os.path.join(os.getcwd(), '..')))\n",
    "\n",
    "from mathmod import linear_systems"
   ]
  },
  {
   "cell_type": "code",
   "execution_count": 49,
   "metadata": {},
   "outputs": [],
   "source": [
    "epsilon = 1e-6\n",
    "m = 20"
   ]
  },
  {
   "cell_type": "code",
   "execution_count": 50,
   "metadata": {},
   "outputs": [
    {
     "name": "stdout",
     "output_type": "stream",
     "text": [
      "R = q = 7.2\n"
     ]
    }
   ],
   "source": [
    "N = 32\n",
    "R = 0.1 * (52 + 20)\n",
    "q = R\n",
    "print(f'R = q = {R}')"
   ]
  },
  {
   "cell_type": "code",
   "execution_count": 51,
   "metadata": {},
   "outputs": [],
   "source": [
    "# Размеры матрицы\n",
    "A = np.zeros((m , m))\n",
    "b = np.zeros(m)"
   ]
  },
  {
   "cell_type": "code",
   "execution_count": 52,
   "metadata": {},
   "outputs": [],
   "source": [
    "# Задаем матрицу коэффициентов b\n",
    "for i in range(m):\n",
    "    b[i] = np.log((i + 1) * q)"
   ]
  },
  {
   "cell_type": "code",
   "execution_count": 53,
   "metadata": {},
   "outputs": [],
   "source": [
    "# Задаем матрицу коэффициентов A\n",
    "for i in range(m):\n",
    "    for j in range(m):\n",
    "        if i != j:\n",
    "            A[i,j] = R / np.log((i + 1) + (j + 1))\n",
    "        elif i == j:\n",
    "            A[i,j] = R / np.log((i + 1) + (j + 1)) + N / R\n"
   ]
  },
  {
   "cell_type": "code",
   "execution_count": 54,
   "metadata": {},
   "outputs": [
    {
     "name": "stdout",
     "output_type": "stream",
     "text": [
      "[56.76569718+0.j 11.44969578+0.j  5.44466629+0.j  4.55459737+0.j\n",
      "  4.45459767+0.j  4.4452389 +0.j  4.44449757+0.j  4.44444749+0.j\n",
      "  4.44444459+0.j  4.44444445+0.j  4.44444444+0.j  4.44444444+0.j\n",
      "  4.44444444+0.j  4.44444444+0.j  4.44444444+0.j  4.44444444+0.j\n",
      "  4.44444444+0.j  4.44444444+0.j  4.44444444+0.j  4.44444444+0.j]\n"
     ]
    }
   ],
   "source": [
    "eigenvalues = eigvals(A)\n",
    "is_positive_definite = np.all(eigenvalues > 0)\n",
    "print(eigenvalues)"
   ]
  },
  {
   "cell_type": "markdown",
   "metadata": {},
   "source": [
    "# Матрица положительно определена"
   ]
  },
  {
   "cell_type": "code",
   "execution_count": 76,
   "metadata": {},
   "outputs": [
    {
     "name": "stdout",
     "output_type": "stream",
     "text": [
      "Решение встроенной функцией:\n",
      " [-0.14059146 -0.15408994 -0.12416741 -0.08805995 -0.05197804 -0.01747857\n",
      "  0.01505816  0.04562008  0.07431777  0.10129813  0.12671187  0.15070113\n",
      "  0.17339542  0.19491088  0.21535094  0.23480748  0.25336216  0.27108761\n",
      "  0.28804862  0.3043031 ]\n"
     ]
    }
   ],
   "source": [
    "# Решение встроенной функцией\n",
    "x_solve = solve(A,b)\n",
    "print(f\"Решение встроенной функцией:\\n {x_solve}\")"
   ]
  },
  {
   "cell_type": "code",
   "execution_count": 56,
   "metadata": {},
   "outputs": [
    {
     "name": "stdout",
     "output_type": "stream",
     "text": [
      "Решение методом Гаусса-Зейделя: [-0.1405914  -0.15408978 -0.12416727 -0.08805986 -0.05197801 -0.0174786\n",
      "  0.01505808  0.04561997  0.07431763  0.10129799  0.12671173  0.150701\n",
      "  0.17339532  0.19491081  0.2153509   0.23480748  0.25336219  0.27108767\n",
      "  0.2880487   0.30430319]\n",
      "Количество итераций: 71\n"
     ]
    }
   ],
   "source": [
    "x_gauss_zeydel, n_gauss_zedel = linear_systems.gauss_zeydel(A, b, epsilon)\n",
    "print(f\"Решение методом Гаусса-Зейделя: {x_gauss_zeydel}\")\n",
    "print(f\"Количество итераций: {n_gauss_zedel}\")"
   ]
  },
  {
   "cell_type": "code",
   "execution_count": 68,
   "metadata": {},
   "outputs": [
    {
     "name": "stdout",
     "output_type": "stream",
     "text": [
      "Решение методом релаксации:\n",
      " [-0.1405914  -0.15408982 -0.12416731 -0.0880599  -0.05197804 -0.01747861\n",
      "  0.01505809  0.04561999  0.07431766  0.10129802  0.12671177  0.15070104\n",
      "  0.17339536  0.19491084  0.21535093  0.23480749  0.25336219  0.27108766\n",
      "  0.28804869  0.30430317]\n",
      "Количество итераций: 62\n"
     ]
    }
   ],
   "source": [
    "omega = 0.9\n",
    "x_relaxation, n_relaxation = linear_systems.relaxation_method(A, b, omega, epsilon)\n",
    "print(f\"Решение методом релаксации:\\n {x_relaxation}\")\n",
    "print(f\"Количество итераций: {n_relaxation}\")"
   ]
  },
  {
   "cell_type": "code",
   "execution_count": 69,
   "metadata": {},
   "outputs": [
    {
     "name": "stdout",
     "output_type": "stream",
     "text": [
      "Решение методом LU-разложения:\n",
      " [-0.14059146 -0.15408994 -0.12416741 -0.08805995 -0.05197804 -0.01747857\n",
      "  0.01505816  0.04562008  0.07431777  0.10129813  0.12671187  0.15070113\n",
      "  0.17339542  0.19491088  0.21535094  0.23480748  0.25336216  0.27108761\n",
      "  0.28804862  0.3043031 ]\n"
     ]
    }
   ],
   "source": [
    "x_lu = linear_systems.lu_solve(A, b)\n",
    "print(f\"Решение методом LU-разложения:\\n {x_lu}\")"
   ]
  },
  {
   "cell_type": "code",
   "execution_count": 70,
   "metadata": {},
   "outputs": [
    {
     "name": "stdout",
     "output_type": "stream",
     "text": [
      "Решение методом Холецкого:\n",
      " [-0.14059146 -0.15408994 -0.12416741 -0.08805995 -0.05197804 -0.01747857\n",
      "  0.01505816  0.04562008  0.07431777  0.10129813  0.12671187  0.15070113\n",
      "  0.17339542  0.19491088  0.21535094  0.23480748  0.25336216  0.27108761\n",
      "  0.28804862  0.3043031 ]\n"
     ]
    }
   ],
   "source": [
    "x_cholecnsky = linear_systems.cholecky(A, b)\n",
    "print(f\"Решение методом Холецкого:\\n {x_cholecnsky}\")"
   ]
  },
  {
   "cell_type": "code",
   "execution_count": 75,
   "metadata": {},
   "outputs": [
    {
     "name": "stdout",
     "output_type": "stream",
     "text": [
      "Метод Гаусса схемой частичного выбора :\n",
      "[-0.14059146 -0.15408994 -0.12416741 -0.08805995 -0.05197804 -0.01747857\n",
      "  0.01505816  0.04562008  0.07431777  0.10129813  0.12671187  0.15070113\n",
      "  0.17339542  0.19491088  0.21535094  0.23480748  0.25336216  0.27108761\n",
      "  0.28804862  0.3043031 ]\n"
     ]
    }
   ],
   "source": [
    "x_gauss_partial_pivot = linear_systems.gauss_partial_pivot(A, b)\n",
    "print(f\"Метод Гаусса схемой частичного выбора :\\n{x_gauss_partial_pivot}\")"
   ]
  },
  {
   "cell_type": "code",
   "execution_count": 73,
   "metadata": {},
   "outputs": [
    {
     "name": "stdout",
     "output_type": "stream",
     "text": [
      "Метод Гаусса схемой единственного деления:\n",
      " [-0.14059146 -0.15408994 -0.12416741 -0.08805995 -0.05197804 -0.01747857\n",
      "  0.01505816  0.04562008  0.07431777  0.10129813  0.12671187  0.15070113\n",
      "  0.17339542  0.19491088  0.21535094  0.23480748  0.25336216  0.27108761\n",
      "  0.28804862  0.3043031 ]\n"
     ]
    }
   ],
   "source": [
    "x_gauss_single_division = linear_systems.gauss_single_division(A, b)\n",
    "print(f\"Метод Гаусса схемой единственного деления:\\n {x_gauss_single_division}\")"
   ]
  },
  {
   "cell_type": "code",
   "execution_count": null,
   "metadata": {},
   "outputs": [],
   "source": []
  }
 ],
 "metadata": {
  "kernelspec": {
   "display_name": "Python 3",
   "language": "python",
   "name": "python3"
  },
  "language_info": {
   "codemirror_mode": {
    "name": "ipython",
    "version": 3
   },
   "file_extension": ".py",
   "mimetype": "text/x-python",
   "name": "python",
   "nbconvert_exporter": "python",
   "pygments_lexer": "ipython3",
   "version": "3.13.1"
  }
 },
 "nbformat": 4,
 "nbformat_minor": 2
}
