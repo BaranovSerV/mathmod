{
 "cells": [
  {
   "cell_type": "code",
   "execution_count": 18,
   "metadata": {},
   "outputs": [],
   "source": [
    "import sys\n",
    "import os\n",
    "import matplotlib.pyplot as plt\n",
    "\n",
    "import numpy as np\n",
    "from scipy.integrate import quad\n",
    "\n",
    "# Добавляем путь к корневой директории проекта\n",
    "sys.path.append(os.path.abspath(os.path.join(os.getcwd(), '..')))\n",
    "\n",
    "from mathmod import integrate"
   ]
  },
  {
   "cell_type": "code",
   "execution_count": 2,
   "metadata": {},
   "outputs": [],
   "source": [
    "def f(x): # тестовая функция\n",
    "    return x * np.sin(6 * x) ** 2"
   ]
  },
  {
   "cell_type": "code",
   "execution_count": 3,
   "metadata": {},
   "outputs": [],
   "source": [
    "# Границы интегрирования\n",
    "a = 2\n",
    "b = 6\n",
    "n = 10\n",
    "eps = 10 ** (-6)"
   ]
  },
  {
   "cell_type": "code",
   "execution_count": 4,
   "metadata": {},
   "outputs": [
    {
     "name": "stdout",
     "output_type": "stream",
     "text": [
      "Значение интеграла, с помощью встроенной функции: 7.86591064857147\n"
     ]
    }
   ],
   "source": [
    "integral, epsilon = quad(f, a, b)\n",
    "print(f\"Значение интеграла, с помощью встроенной функции: {integral}\")"
   ]
  },
  {
   "cell_type": "markdown",
   "metadata": {},
   "source": [
    "##  Методы, с точностью 1"
   ]
  },
  {
   "cell_type": "code",
   "execution_count": 5,
   "metadata": {},
   "outputs": [
    {
     "name": "stdout",
     "output_type": "stream",
     "text": [
      "Значение интеграла, вычисленного методом левых прямоугольников: 7.359786651368942\n"
     ]
    }
   ],
   "source": [
    "left_integral = integrate.left_rectangles(f, a, b, n)\n",
    "print(f\"Значение интеграла, вычисленного методом левых прямоугольников: {left_integral}\")"
   ]
  },
  {
   "cell_type": "code",
   "execution_count": 6,
   "metadata": {},
   "outputs": [
    {
     "name": "stdout",
     "output_type": "stream",
     "text": [
      "Значение интеграла, вычисленного методом правых прямоугольников: 9.490158960232398\n"
     ]
    }
   ],
   "source": [
    "right_integral = integrate.right_rectangles(f, a, b, n)\n",
    "print(f\"Значение интеграла, вычисленного методом правых прямоугольников: {right_integral}\")"
   ]
  },
  {
   "cell_type": "markdown",
   "metadata": {},
   "source": [
    "##  Метода, с точностью 2"
   ]
  },
  {
   "cell_type": "code",
   "execution_count": 7,
   "metadata": {},
   "outputs": [
    {
     "name": "stdout",
     "output_type": "stream",
     "text": [
      "Значение интеграла, вычисленного методом центральных прямоугольников: 7.461421754053166\n"
     ]
    }
   ],
   "source": [
    "central_integral = integrate.central(f, a, b, n)\n",
    "print(f\"Значение интеграла, вычисленного методом центральных прямоугольников: {central_integral}\")"
   ]
  },
  {
   "cell_type": "code",
   "execution_count": 8,
   "metadata": {},
   "outputs": [
    {
     "name": "stdout",
     "output_type": "stream",
     "text": [
      "Значение интеграла, вычисленного методом трапеций: 8.424972805800671\n"
     ]
    }
   ],
   "source": [
    "trapeziodal_integral = integrate.trapezoidal(f, a, b, n)\n",
    "print(f\"Значение интеграла, вычисленного методом трапеций: {trapeziodal_integral}\")"
   ]
  },
  {
   "cell_type": "markdown",
   "metadata": {},
   "source": [
    "# Методы, с точностью 4"
   ]
  },
  {
   "cell_type": "code",
   "execution_count": 9,
   "metadata": {},
   "outputs": [
    {
     "name": "stdout",
     "output_type": "stream",
     "text": [
      "Значение интеграла, вычисленного правилом 3/8: 7.832208530695069\n"
     ]
    }
   ],
   "source": [
    "rule_3_8_integral = integrate.rule_3_8(f, a, b, n)\n",
    "print(f\"Значение интеграла, вычисленного правилом 3/8: {rule_3_8_integral}\")"
   ]
  },
  {
   "cell_type": "code",
   "execution_count": 10,
   "metadata": {},
   "outputs": [
    {
     "name": "stdout",
     "output_type": "stream",
     "text": [
      "Значение интеграла, вычисленного методом Симпсона: 8.509715796787335\n"
     ]
    }
   ],
   "source": [
    "simpson_integral = integrate.simpson(f, a, b, n)\n",
    "print(f\"Значение интеграла, вычисленного методом Симпсона: {simpson_integral}\")"
   ]
  },
  {
   "cell_type": "markdown",
   "metadata": {},
   "source": [
    "# Методы, с точностью 6"
   ]
  },
  {
   "cell_type": "code",
   "execution_count": 11,
   "metadata": {},
   "outputs": [
    {
     "name": "stdout",
     "output_type": "stream",
     "text": [
      "Значение интеграла, вычисленного методом Милна: 7.86917051923387\n"
     ]
    }
   ],
   "source": [
    "milne_integral = integrate.milne(f, a, b, n)\n",
    "print(f\"Значение интеграла, вычисленного методом Милна: {milne_integral}\")"
   ]
  },
  {
   "cell_type": "markdown",
   "metadata": {},
   "source": [
    "# Методы, с точностью 8"
   ]
  },
  {
   "cell_type": "code",
   "execution_count": 12,
   "metadata": {},
   "outputs": [
    {
     "name": "stdout",
     "output_type": "stream",
     "text": [
      "Значение интеграла, вычисленного методом Вэддла: 7.865807205232379\n"
     ]
    }
   ],
   "source": [
    "veddle_integral = integrate.veddle(f, a, b, n)\n",
    "print(f\"Значение интеграла, вычисленного методом Вэддла: {veddle_integral}\")"
   ]
  },
  {
   "cell_type": "markdown",
   "metadata": {},
   "source": [
    "# Правило Рунге"
   ]
  },
  {
   "cell_type": "code",
   "execution_count": 13,
   "metadata": {},
   "outputs": [],
   "source": [
    "def runge(f, a, b, method, p, eps):\n",
    "    n = 2\n",
    "    I_n = method(f, a, b, n)\n",
    "\n",
    "    while True:\n",
    "        n *= 2\n",
    "\n",
    "        I_2n = method(f, a, b, n)\n",
    "        error = np.abs(I_2n - I_n) / (2 ** p - 1)\n",
    "\n",
    "\n",
    "        if error < eps:\n",
    "            return I_2n, n\n",
    "        \n",
    "        I_n = I_2n"
   ]
  },
  {
   "cell_type": "code",
   "execution_count": 14,
   "metadata": {},
   "outputs": [
    {
     "name": "stdout",
     "output_type": "stream",
     "text": [
      "Значение интеграла для метода левых прямоугольников: 7.865910013670168\n",
      "Количество шагов: 16777216\n"
     ]
    }
   ],
   "source": [
    "p_left = 1\n",
    "left_integral_runge, n_left_runge = runge(f, a, b, integrate.left_rectangles,  p_left, eps)\n",
    "print(f\"Значение интеграла для метода левых прямоугольников: {left_integral_runge}\")\n",
    "print(f\"Количество шагов: {n_left_runge}\")"
   ]
  },
  {
   "cell_type": "code",
   "execution_count": 15,
   "metadata": {},
   "outputs": [
    {
     "name": "stdout",
     "output_type": "stream",
     "text": [
      "Значение интеграла для метода Симпсона: 7.865910582659709\n",
      "Количество шагов: 512\n"
     ]
    }
   ],
   "source": [
    "p_simpson = 4\n",
    "simpson_integral_runge, n_simpson_runge = runge(f, a, b, integrate.simpson, p_simpson, eps)\n",
    "print(f\"Значение интеграла для метода Симпсона: {simpson_integral_runge}\")\n",
    "print(f\"Количество шагов: {n_simpson_runge}\")"
   ]
  },
  {
   "cell_type": "code",
   "execution_count": 16,
   "metadata": {},
   "outputs": [
    {
     "name": "stdout",
     "output_type": "stream",
     "text": [
      "Значение интеграла для метода Милна: 7.865910663866264\n",
      "Количество шагов: 64\n"
     ]
    }
   ],
   "source": [
    "p_milne = 6\n",
    "milne_integral_runge, n_milne_runge = runge(f, a, b, integrate.milne, p_milne, eps)\n",
    "print(f\"Значение интеграла для метода Милна: {milne_integral_runge}\")\n",
    "print(f\"Количество шагов: {n_milne_runge}\")"
   ]
  },
  {
   "cell_type": "code",
   "execution_count": 17,
   "metadata": {},
   "outputs": [
    {
     "name": "stdout",
     "output_type": "stream",
     "text": [
      "Значение интеграла для метода Вэддла: 7.865910645495821\n",
      "Количество шагов: 32\n"
     ]
    }
   ],
   "source": [
    "p_veddle = 8\n",
    "veddle_integral_runge, n_veddle_runge = runge(f, a, b, integrate.veddle, p_veddle, eps)\n",
    "print(f\"Значение интеграла для метода Вэддла: {veddle_integral_runge}\")\n",
    "print(f\"Количество шагов: {n_veddle_runge}\")"
   ]
  },
  {
   "cell_type": "markdown",
   "metadata": {},
   "source": [
    "# Для малькой погрешности методы с низкой точностью плохо подходят"
   ]
  },
  {
   "cell_type": "markdown",
   "metadata": {},
   "source": []
  }
 ],
 "metadata": {
  "kernelspec": {
   "display_name": "Python 3",
   "language": "python",
   "name": "python3"
  },
  "language_info": {
   "codemirror_mode": {
    "name": "ipython",
    "version": 3
   },
   "file_extension": ".py",
   "mimetype": "text/x-python",
   "name": "python",
   "nbconvert_exporter": "python",
   "pygments_lexer": "ipython3",
   "version": "3.13.1"
  }
 },
 "nbformat": 4,
 "nbformat_minor": 2
}
